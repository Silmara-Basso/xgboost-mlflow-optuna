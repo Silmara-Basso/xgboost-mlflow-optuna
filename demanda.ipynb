{
 "cells": [
  {
   "cell_type": "markdown",
   "id": "ffe0c6d2",
   "metadata": {},
   "source": [
    "<!-- Projeto Desenvolvido por Silmara Cristina Basso  -->\n",
    "# <font color='blue'>Previsão de demanda</font>\n",
    "# <font color='blue'>MLOps e Ciclo de Vida de Modelos de Machine Learning</font>\n",
    "## <font color='blue'>MLFlow</font>\n",
    "### <font color='blue'>MLOps Stack Para Otimização de Hiperparâmetros com MLflow e Optuna</font>"
   ]
  },
  {
   "cell_type": "markdown",
   "id": "4849fa32",
   "metadata": {},
   "source": [
    "## Instalação, Carregamento e Gerenciamento de Pacotes"
   ]
  },
  {
   "cell_type": "code",
   "execution_count": 1,
   "id": "a99210ec",
   "metadata": {},
   "outputs": [],
   "source": [
    "# Para atualizar um pacote, execute o comando abaixo no terminal ou prompt de comando:\n",
    "# pip install -U nome_pacote\n",
    "\n",
    "# Para instalar a versão exata de um pacote, execute o comando abaixo no terminal ou prompt de comando:\n",
    "# pip install nome_pacote==versão_desejada\n",
    "\n",
    "# Depois de instalar ou atualizar o pacote, reinicie o jupyter notebook.\n",
    "\n",
    "# Instala o pacote watermark. \n",
    "# Esse pacote é usado para gravar as versões de outros pacotes usados neste jupyter notebook.\n",
    "!pip install -q -U watermark"
   ]
  },
  {
   "cell_type": "code",
   "execution_count": 2,
   "id": "5cc46d34",
   "metadata": {},
   "outputs": [],
   "source": [
    "!pip install -q optuna==3.6.1"
   ]
  },
  {
   "cell_type": "code",
   "execution_count": 3,
   "id": "6bea0aed",
   "metadata": {},
   "outputs": [],
   "source": [
    "!pip install -q mlflow==2.14.1"
   ]
  },
  {
   "cell_type": "code",
   "execution_count": 4,
   "id": "7cda2405",
   "metadata": {},
   "outputs": [],
   "source": [
    "!pip install -q xgboost==2.0.3"
   ]
  },
  {
   "cell_type": "code",
   "execution_count": 5,
   "id": "71cf7259",
   "metadata": {},
   "outputs": [],
   "source": [
    "!pip install -q seaborn==0.12.2"
   ]
  },
  {
   "cell_type": "code",
   "execution_count": 6,
   "id": "8ad04a1f",
   "metadata": {},
   "outputs": [
    {
     "name": "stdout",
     "output_type": "stream",
     "text": [
      "Requirement already satisfied: pip in /Users/silmarabasso/.pyenv/versions/3.11.5/lib/python3.11/site-packages (25.1.1)\n"
     ]
    }
   ],
   "source": [
    "!pip install --upgrade pip"
   ]
  },
  {
   "cell_type": "code",
   "execution_count": 7,
   "id": "7993147a",
   "metadata": {},
   "outputs": [
    {
     "name": "stderr",
     "output_type": "stream",
     "text": [
      "/Users/silmarabasso/.pyenv/versions/3.11.5/lib/python3.11/site-packages/tqdm/auto.py:21: TqdmWarning: IProgress not found. Please update jupyter and ipywidgets. See https://ipywidgets.readthedocs.io/en/stable/user_install.html\n",
      "  from .autonotebook import tqdm as notebook_tqdm\n"
     ]
    }
   ],
   "source": [
    "# Imports\n",
    "import json\n",
    "import math\n",
    "import sklearn\n",
    "import optuna\n",
    "import mlflow\n",
    "import numpy as np\n",
    "import pandas as pd\n",
    "import xgboost as xgb\n",
    "import matplotlib.pyplot as plt\n",
    "import seaborn as sns\n",
    "from sklearn.metrics import mean_squared_error\n",
    "from sklearn.model_selection import train_test_split\n",
    "from datetime import datetime, timedelta\n",
    "import warnings\n",
    "warnings.filterwarnings('ignore')"
   ]
  },
  {
   "cell_type": "code",
   "execution_count": 8,
   "id": "b43ed47c",
   "metadata": {},
   "outputs": [
    {
     "name": "stdout",
     "output_type": "stream",
     "text": [
      "Author: Silmara\n",
      "\n"
     ]
    }
   ],
   "source": [
    "# Versões dos pacotes usados neste jupyter notebook\n",
    "%reload_ext watermark\n",
    "%watermark -a \"Silmara\" "
   ]
  },
  {
   "cell_type": "markdown",
   "id": "0f648147",
   "metadata": {},
   "source": [
    "## Inicializando o Servidor MLflow\n",
    "\n",
    "Abra um prompt de comando ou terminal, navegue até a pasta do projeto e digite o comando abaixo:\n",
    "\n",
    "mlflow server --host 127.0.0.1 --port 8282"
   ]
  },
  {
   "cell_type": "markdown",
   "id": "40e024bc",
   "metadata": {},
   "source": [
    "> Agora conectamos no servidor MLflow:"
   ]
  },
  {
   "cell_type": "code",
   "execution_count": 9,
   "id": "91e00516",
   "metadata": {},
   "outputs": [],
   "source": [
    "mlflow.set_tracking_uri(\"http://127.0.0.1:8282\")"
   ]
  },
  {
   "cell_type": "markdown",
   "id": "c3b9b330",
   "metadata": {},
   "source": [
    "Acesse a url acima a partir de outra aba no seu navegador: http://127.0.0.1:8282"
   ]
  },
  {
   "cell_type": "code",
   "execution_count": null,
   "id": "5585f543",
   "metadata": {},
   "outputs": [],
   "source": []
  },
  {
   "cell_type": "markdown",
   "id": "e43eb5c2",
   "metadata": {},
   "source": [
    "## Carregando e Compreendendo os Dados"
   ]
  },
  {
   "cell_type": "code",
   "execution_count": 10,
   "id": "efe77bea",
   "metadata": {},
   "outputs": [],
   "source": [
    "# Carrega o dataset\n",
    "df_sil = pd.read_csv(\"dataset.csv\")"
   ]
  },
  {
   "cell_type": "code",
   "execution_count": 11,
   "id": "1c818250",
   "metadata": {},
   "outputs": [
    {
     "data": {
      "text/plain": [
       "(5000, 11)"
      ]
     },
     "execution_count": 11,
     "metadata": {},
     "output_type": "execute_result"
    }
   ],
   "source": [
    "# Shape\n",
    "df_sil.shape"
   ]
  },
  {
   "cell_type": "code",
   "execution_count": 12,
   "id": "01ea8a01",
   "metadata": {},
   "outputs": [
    {
     "data": {
      "text/html": [
       "<div>\n",
       "<style scoped>\n",
       "    .dataframe tbody tr th:only-of-type {\n",
       "        vertical-align: middle;\n",
       "    }\n",
       "\n",
       "    .dataframe tbody tr th {\n",
       "        vertical-align: top;\n",
       "    }\n",
       "\n",
       "    .dataframe thead th {\n",
       "        text-align: right;\n",
       "    }\n",
       "</style>\n",
       "<table border=\"1\" class=\"dataframe\">\n",
       "  <thead>\n",
       "    <tr style=\"text-align: right;\">\n",
       "      <th></th>\n",
       "      <th>data</th>\n",
       "      <th>temperatura_media</th>\n",
       "      <th>precipitacao</th>\n",
       "      <th>fim_de_semana</th>\n",
       "      <th>feriado</th>\n",
       "      <th>preco_por_kg</th>\n",
       "      <th>promocao</th>\n",
       "      <th>demanda</th>\n",
       "      <th>demanda_dos_dias_anteriores</th>\n",
       "      <th>preco_por_kg_do_concorrente</th>\n",
       "      <th>intensidade_de_marketing</th>\n",
       "    </tr>\n",
       "  </thead>\n",
       "  <tbody>\n",
       "    <tr>\n",
       "      <th>0</th>\n",
       "      <td>2010-10-18 09:16:07.883826</td>\n",
       "      <td>30.584727</td>\n",
       "      <td>1.199291</td>\n",
       "      <td>0</td>\n",
       "      <td>0</td>\n",
       "      <td>1.726258</td>\n",
       "      <td>1</td>\n",
       "      <td>1051.375336</td>\n",
       "      <td>1051.276659</td>\n",
       "      <td>1.935346</td>\n",
       "      <td>0.098677</td>\n",
       "    </tr>\n",
       "    <tr>\n",
       "      <th>1</th>\n",
       "      <td>2010-10-19 09:16:07.883825</td>\n",
       "      <td>15.465069</td>\n",
       "      <td>1.037626</td>\n",
       "      <td>0</td>\n",
       "      <td>0</td>\n",
       "      <td>0.576471</td>\n",
       "      <td>1</td>\n",
       "      <td>1106.855943</td>\n",
       "      <td>1051.276659</td>\n",
       "      <td>2.344720</td>\n",
       "      <td>0.019318</td>\n",
       "    </tr>\n",
       "    <tr>\n",
       "      <th>2</th>\n",
       "      <td>2010-10-20 09:16:07.883824</td>\n",
       "      <td>10.786525</td>\n",
       "      <td>5.656089</td>\n",
       "      <td>0</td>\n",
       "      <td>0</td>\n",
       "      <td>2.513328</td>\n",
       "      <td>1</td>\n",
       "      <td>1008.304909</td>\n",
       "      <td>1106.836626</td>\n",
       "      <td>0.998803</td>\n",
       "      <td>0.409485</td>\n",
       "    </tr>\n",
       "    <tr>\n",
       "      <th>3</th>\n",
       "      <td>2010-10-21 09:16:07.883823</td>\n",
       "      <td>23.648154</td>\n",
       "      <td>12.030937</td>\n",
       "      <td>0</td>\n",
       "      <td>0</td>\n",
       "      <td>1.839225</td>\n",
       "      <td>1</td>\n",
       "      <td>999.833810</td>\n",
       "      <td>1057.895424</td>\n",
       "      <td>0.761740</td>\n",
       "      <td>0.872803</td>\n",
       "    </tr>\n",
       "    <tr>\n",
       "      <th>4</th>\n",
       "      <td>2010-10-22 09:16:07.883822</td>\n",
       "      <td>13.861391</td>\n",
       "      <td>4.303812</td>\n",
       "      <td>0</td>\n",
       "      <td>0</td>\n",
       "      <td>1.531772</td>\n",
       "      <td>1</td>\n",
       "      <td>1183.949061</td>\n",
       "      <td>1048.961007</td>\n",
       "      <td>2.123436</td>\n",
       "      <td>0.820779</td>\n",
       "    </tr>\n",
       "  </tbody>\n",
       "</table>\n",
       "</div>"
      ],
      "text/plain": [
       "                         data  temperatura_media  precipitacao  fim_de_semana  \\\n",
       "0  2010-10-18 09:16:07.883826          30.584727      1.199291              0   \n",
       "1  2010-10-19 09:16:07.883825          15.465069      1.037626              0   \n",
       "2  2010-10-20 09:16:07.883824          10.786525      5.656089              0   \n",
       "3  2010-10-21 09:16:07.883823          23.648154     12.030937              0   \n",
       "4  2010-10-22 09:16:07.883822          13.861391      4.303812              0   \n",
       "\n",
       "   feriado  preco_por_kg  promocao      demanda  demanda_dos_dias_anteriores  \\\n",
       "0        0      1.726258         1  1051.375336                  1051.276659   \n",
       "1        0      0.576471         1  1106.855943                  1051.276659   \n",
       "2        0      2.513328         1  1008.304909                  1106.836626   \n",
       "3        0      1.839225         1   999.833810                  1057.895424   \n",
       "4        0      1.531772         1  1183.949061                  1048.961007   \n",
       "\n",
       "   preco_por_kg_do_concorrente  intensidade_de_marketing  \n",
       "0                     1.935346                  0.098677  \n",
       "1                     2.344720                  0.019318  \n",
       "2                     0.998803                  0.409485  \n",
       "3                     0.761740                  0.872803  \n",
       "4                     2.123436                  0.820779  "
      ]
     },
     "execution_count": 12,
     "metadata": {},
     "output_type": "execute_result"
    }
   ],
   "source": [
    "# Amostra dos dados\n",
    "df_sil.head()"
   ]
  },
  {
   "cell_type": "code",
   "execution_count": 13,
   "id": "38d12051",
   "metadata": {},
   "outputs": [
    {
     "name": "stdout",
     "output_type": "stream",
     "text": [
      "<class 'pandas.core.frame.DataFrame'>\n",
      "RangeIndex: 5000 entries, 0 to 4999\n",
      "Data columns (total 11 columns):\n",
      " #   Column                       Non-Null Count  Dtype  \n",
      "---  ------                       --------------  -----  \n",
      " 0   data                         5000 non-null   object \n",
      " 1   temperatura_media            5000 non-null   float64\n",
      " 2   precipitacao                 5000 non-null   float64\n",
      " 3   fim_de_semana                5000 non-null   int64  \n",
      " 4   feriado                      5000 non-null   int64  \n",
      " 5   preco_por_kg                 5000 non-null   float64\n",
      " 6   promocao                     5000 non-null   int64  \n",
      " 7   demanda                      5000 non-null   float64\n",
      " 8   demanda_dos_dias_anteriores  5000 non-null   float64\n",
      " 9   preco_por_kg_do_concorrente  5000 non-null   float64\n",
      " 10  intensidade_de_marketing     5000 non-null   float64\n",
      "dtypes: float64(7), int64(3), object(1)\n",
      "memory usage: 429.8+ KB\n"
     ]
    }
   ],
   "source": [
    "# Tipos dos dados\n",
    "df_sil.info()"
   ]
  },
  {
   "cell_type": "code",
   "execution_count": 14,
   "id": "a583b94a",
   "metadata": {},
   "outputs": [],
   "source": [
    "# Vamos ajustar a coluna de data para o tipo correto\n",
    "df_sil['data'] = pd.to_datetime(df_sil['data'])"
   ]
  },
  {
   "cell_type": "code",
   "execution_count": 15,
   "id": "5331f7b7",
   "metadata": {},
   "outputs": [
    {
     "name": "stdout",
     "output_type": "stream",
     "text": [
      "<class 'pandas.core.frame.DataFrame'>\n",
      "RangeIndex: 5000 entries, 0 to 4999\n",
      "Data columns (total 11 columns):\n",
      " #   Column                       Non-Null Count  Dtype         \n",
      "---  ------                       --------------  -----         \n",
      " 0   data                         5000 non-null   datetime64[ns]\n",
      " 1   temperatura_media            5000 non-null   float64       \n",
      " 2   precipitacao                 5000 non-null   float64       \n",
      " 3   fim_de_semana                5000 non-null   int64         \n",
      " 4   feriado                      5000 non-null   int64         \n",
      " 5   preco_por_kg                 5000 non-null   float64       \n",
      " 6   promocao                     5000 non-null   int64         \n",
      " 7   demanda                      5000 non-null   float64       \n",
      " 8   demanda_dos_dias_anteriores  5000 non-null   float64       \n",
      " 9   preco_por_kg_do_concorrente  5000 non-null   float64       \n",
      " 10  intensidade_de_marketing     5000 non-null   float64       \n",
      "dtypes: datetime64[ns](1), float64(7), int64(3)\n",
      "memory usage: 429.8 KB\n"
     ]
    }
   ],
   "source": [
    "# Tipos dos dados\n",
    "df_sil.info()"
   ]
  },
  {
   "cell_type": "code",
   "execution_count": 16,
   "id": "09279747",
   "metadata": {},
   "outputs": [
    {
     "data": {
      "text/html": [
       "<div>\n",
       "<style scoped>\n",
       "    .dataframe tbody tr th:only-of-type {\n",
       "        vertical-align: middle;\n",
       "    }\n",
       "\n",
       "    .dataframe tbody tr th {\n",
       "        vertical-align: top;\n",
       "    }\n",
       "\n",
       "    .dataframe thead th {\n",
       "        text-align: right;\n",
       "    }\n",
       "</style>\n",
       "<table border=\"1\" class=\"dataframe\">\n",
       "  <thead>\n",
       "    <tr style=\"text-align: right;\">\n",
       "      <th></th>\n",
       "      <th>data</th>\n",
       "      <th>temperatura_media</th>\n",
       "      <th>precipitacao</th>\n",
       "      <th>fim_de_semana</th>\n",
       "      <th>feriado</th>\n",
       "      <th>preco_por_kg</th>\n",
       "      <th>promocao</th>\n",
       "      <th>demanda</th>\n",
       "      <th>demanda_dos_dias_anteriores</th>\n",
       "      <th>preco_por_kg_do_concorrente</th>\n",
       "      <th>intensidade_de_marketing</th>\n",
       "    </tr>\n",
       "  </thead>\n",
       "  <tbody>\n",
       "    <tr>\n",
       "      <th>count</th>\n",
       "      <td>5000</td>\n",
       "      <td>5000.000000</td>\n",
       "      <td>5000.000000</td>\n",
       "      <td>5000.000000</td>\n",
       "      <td>5000.000000</td>\n",
       "      <td>5000.000000</td>\n",
       "      <td>5000.000000</td>\n",
       "      <td>5000.000000</td>\n",
       "      <td>5000.000000</td>\n",
       "      <td>5000.000000</td>\n",
       "      <td>5000.000000</td>\n",
       "    </tr>\n",
       "    <tr>\n",
       "      <th>mean</th>\n",
       "      <td>2017-08-21 21:16:07.881014528</td>\n",
       "      <td>22.433182</td>\n",
       "      <td>4.962877</td>\n",
       "      <td>0.285600</td>\n",
       "      <td>0.033000</td>\n",
       "      <td>1.758228</td>\n",
       "      <td>0.289000</td>\n",
       "      <td>1258.452333</td>\n",
       "      <td>1282.446665</td>\n",
       "      <td>1.769682</td>\n",
       "      <td>0.848173</td>\n",
       "    </tr>\n",
       "    <tr>\n",
       "      <th>min</th>\n",
       "      <td>2010-10-18 09:16:07.883826</td>\n",
       "      <td>10.002439</td>\n",
       "      <td>0.000071</td>\n",
       "      <td>0.000000</td>\n",
       "      <td>0.000000</td>\n",
       "      <td>0.500360</td>\n",
       "      <td>0.000000</td>\n",
       "      <td>707.952882</td>\n",
       "      <td>757.216503</td>\n",
       "      <td>0.500754</td>\n",
       "      <td>0.019318</td>\n",
       "    </tr>\n",
       "    <tr>\n",
       "      <th>25%</th>\n",
       "      <td>2014-03-21 03:16:07.882367232</td>\n",
       "      <td>16.311898</td>\n",
       "      <td>1.440718</td>\n",
       "      <td>0.000000</td>\n",
       "      <td>0.000000</td>\n",
       "      <td>1.134110</td>\n",
       "      <td>0.000000</td>\n",
       "      <td>1066.040653</td>\n",
       "      <td>1089.993191</td>\n",
       "      <td>1.160719</td>\n",
       "      <td>0.773080</td>\n",
       "    </tr>\n",
       "    <tr>\n",
       "      <th>50%</th>\n",
       "      <td>2017-08-21 21:16:07.881031424</td>\n",
       "      <td>22.400265</td>\n",
       "      <td>3.520515</td>\n",
       "      <td>0.000000</td>\n",
       "      <td>0.000000</td>\n",
       "      <td>1.776194</td>\n",
       "      <td>0.000000</td>\n",
       "      <td>1222.237635</td>\n",
       "      <td>1244.619215</td>\n",
       "      <td>1.764809</td>\n",
       "      <td>0.848107</td>\n",
       "    </tr>\n",
       "    <tr>\n",
       "      <th>75%</th>\n",
       "      <td>2021-01-22 15:16:07.879706624</td>\n",
       "      <td>28.570768</td>\n",
       "      <td>6.805668</td>\n",
       "      <td>1.000000</td>\n",
       "      <td>0.000000</td>\n",
       "      <td>2.383638</td>\n",
       "      <td>1.000000</td>\n",
       "      <td>1422.792698</td>\n",
       "      <td>1445.791858</td>\n",
       "      <td>2.401827</td>\n",
       "      <td>0.928536</td>\n",
       "    </tr>\n",
       "    <tr>\n",
       "      <th>max</th>\n",
       "      <td>2024-06-25 09:16:07.878116</td>\n",
       "      <td>34.995334</td>\n",
       "      <td>40.072693</td>\n",
       "      <td>1.000000</td>\n",
       "      <td>1.000000</td>\n",
       "      <td>2.999606</td>\n",
       "      <td>1.000000</td>\n",
       "      <td>2183.463942</td>\n",
       "      <td>2182.608701</td>\n",
       "      <td>2.999847</td>\n",
       "      <td>0.999979</td>\n",
       "    </tr>\n",
       "    <tr>\n",
       "      <th>std</th>\n",
       "      <td>NaN</td>\n",
       "      <td>7.146610</td>\n",
       "      <td>4.932382</td>\n",
       "      <td>0.451745</td>\n",
       "      <td>0.178654</td>\n",
       "      <td>0.725334</td>\n",
       "      <td>0.453343</td>\n",
       "      <td>253.240475</td>\n",
       "      <td>249.087488</td>\n",
       "      <td>0.721041</td>\n",
       "      <td>0.093135</td>\n",
       "    </tr>\n",
       "  </tbody>\n",
       "</table>\n",
       "</div>"
      ],
      "text/plain": [
       "                                data  temperatura_media  precipitacao  \\\n",
       "count                           5000        5000.000000   5000.000000   \n",
       "mean   2017-08-21 21:16:07.881014528          22.433182      4.962877   \n",
       "min       2010-10-18 09:16:07.883826          10.002439      0.000071   \n",
       "25%    2014-03-21 03:16:07.882367232          16.311898      1.440718   \n",
       "50%    2017-08-21 21:16:07.881031424          22.400265      3.520515   \n",
       "75%    2021-01-22 15:16:07.879706624          28.570768      6.805668   \n",
       "max       2024-06-25 09:16:07.878116          34.995334     40.072693   \n",
       "std                              NaN           7.146610      4.932382   \n",
       "\n",
       "       fim_de_semana      feriado  preco_por_kg     promocao      demanda  \\\n",
       "count    5000.000000  5000.000000   5000.000000  5000.000000  5000.000000   \n",
       "mean        0.285600     0.033000      1.758228     0.289000  1258.452333   \n",
       "min         0.000000     0.000000      0.500360     0.000000   707.952882   \n",
       "25%         0.000000     0.000000      1.134110     0.000000  1066.040653   \n",
       "50%         0.000000     0.000000      1.776194     0.000000  1222.237635   \n",
       "75%         1.000000     0.000000      2.383638     1.000000  1422.792698   \n",
       "max         1.000000     1.000000      2.999606     1.000000  2183.463942   \n",
       "std         0.451745     0.178654      0.725334     0.453343   253.240475   \n",
       "\n",
       "       demanda_dos_dias_anteriores  preco_por_kg_do_concorrente  \\\n",
       "count                  5000.000000                  5000.000000   \n",
       "mean                   1282.446665                     1.769682   \n",
       "min                     757.216503                     0.500754   \n",
       "25%                    1089.993191                     1.160719   \n",
       "50%                    1244.619215                     1.764809   \n",
       "75%                    1445.791858                     2.401827   \n",
       "max                    2182.608701                     2.999847   \n",
       "std                     249.087488                     0.721041   \n",
       "\n",
       "       intensidade_de_marketing  \n",
       "count               5000.000000  \n",
       "mean                   0.848173  \n",
       "min                    0.019318  \n",
       "25%                    0.773080  \n",
       "50%                    0.848107  \n",
       "75%                    0.928536  \n",
       "max                    0.999979  \n",
       "std                    0.093135  "
      ]
     },
     "execution_count": 16,
     "metadata": {},
     "output_type": "execute_result"
    }
   ],
   "source": [
    "# Resumo estatístico\n",
    "df_sil.describe()"
   ]
  },
  {
   "cell_type": "markdown",
   "id": "b0b05013",
   "metadata": {},
   "source": [
    "<!-- Projeto Desenvolvido na Data Science Academy - www.datascienceacademy.com.br -->\n",
    "## Carregando e Compreendendo os Metadados (Dicionário)"
   ]
  },
  {
   "cell_type": "code",
   "execution_count": 17,
   "id": "89285f8b",
   "metadata": {},
   "outputs": [],
   "source": [
    "# Carrega o arquivo JSON\n",
    "with open('dicionario_de_dados.json', 'r') as arquivo:\n",
    "    dicionario_de_dados = json.load(arquivo)"
   ]
  },
  {
   "cell_type": "code",
   "execution_count": 18,
   "id": "27fa13e9",
   "metadata": {},
   "outputs": [],
   "source": [
    "# Cria um DataFrame a partir do dicionário de metadados\n",
    "df_dict = pd.DataFrame.from_dict(dicionario_de_dados, orient = 'index')"
   ]
  },
  {
   "cell_type": "code",
   "execution_count": 19,
   "id": "1c05b880",
   "metadata": {},
   "outputs": [],
   "source": [
    "# Não truncar colunas no Pandas\n",
    "pd.set_option('display.max_colwidth', None)"
   ]
  },
  {
   "cell_type": "code",
   "execution_count": 20,
   "id": "9977aab2",
   "metadata": {},
   "outputs": [
    {
     "data": {
      "text/html": [
       "<div>\n",
       "<style scoped>\n",
       "    .dataframe tbody tr th:only-of-type {\n",
       "        vertical-align: middle;\n",
       "    }\n",
       "\n",
       "    .dataframe tbody tr th {\n",
       "        vertical-align: top;\n",
       "    }\n",
       "\n",
       "    .dataframe thead th {\n",
       "        text-align: right;\n",
       "    }\n",
       "</style>\n",
       "<table border=\"1\" class=\"dataframe\">\n",
       "  <thead>\n",
       "    <tr style=\"text-align: right;\">\n",
       "      <th></th>\n",
       "      <th>descrição</th>\n",
       "      <th>tipo</th>\n",
       "    </tr>\n",
       "  </thead>\n",
       "  <tbody>\n",
       "    <tr>\n",
       "      <th>data</th>\n",
       "      <td>Data e hora em que os dados foram registrados.</td>\n",
       "      <td>datetime</td>\n",
       "    </tr>\n",
       "    <tr>\n",
       "      <th>temperatura_media</th>\n",
       "      <td>Temperatura média registrada na data.</td>\n",
       "      <td>float</td>\n",
       "    </tr>\n",
       "    <tr>\n",
       "      <th>precipitacao</th>\n",
       "      <td>Quantidade de precipitação registrada na data.</td>\n",
       "      <td>float</td>\n",
       "    </tr>\n",
       "    <tr>\n",
       "      <th>fim_de_semana</th>\n",
       "      <td>Indica se o dia é um fim de semana (1) ou não (0).</td>\n",
       "      <td>int</td>\n",
       "    </tr>\n",
       "    <tr>\n",
       "      <th>feriado</th>\n",
       "      <td>Indica se o dia é um feriado (1) ou não (0).</td>\n",
       "      <td>int</td>\n",
       "    </tr>\n",
       "    <tr>\n",
       "      <th>preco_por_kg</th>\n",
       "      <td>Preço por kg do produto vendido.</td>\n",
       "      <td>float</td>\n",
       "    </tr>\n",
       "    <tr>\n",
       "      <th>promocao</th>\n",
       "      <td>Indica se havia uma promoção ativa (1) ou não (0).</td>\n",
       "      <td>int</td>\n",
       "    </tr>\n",
       "    <tr>\n",
       "      <th>demanda</th>\n",
       "      <td>Demanda do produto na data.</td>\n",
       "      <td>float</td>\n",
       "    </tr>\n",
       "    <tr>\n",
       "      <th>demanda_dos_dias_anteriores</th>\n",
       "      <td>Demanda do produto no dia anterior.</td>\n",
       "      <td>float</td>\n",
       "    </tr>\n",
       "    <tr>\n",
       "      <th>preco_por_kg_do_concorrente</th>\n",
       "      <td>Preço por kg do produto oferecido por um concorrente.</td>\n",
       "      <td>float</td>\n",
       "    </tr>\n",
       "    <tr>\n",
       "      <th>intensidade_de_marketing</th>\n",
       "      <td>Nível de intensidade das atividades de marketing (campanhas, anúncios) relacionadas ao produto.</td>\n",
       "      <td>float</td>\n",
       "    </tr>\n",
       "  </tbody>\n",
       "</table>\n",
       "</div>"
      ],
      "text/plain": [
       "                                                                                                                   descrição  \\\n",
       "data                                                                          Data e hora em que os dados foram registrados.   \n",
       "temperatura_media                                                                      Temperatura média registrada na data.   \n",
       "precipitacao                                                                  Quantidade de precipitação registrada na data.   \n",
       "fim_de_semana                                                             Indica se o dia é um fim de semana (1) ou não (0).   \n",
       "feriado                                                                         Indica se o dia é um feriado (1) ou não (0).   \n",
       "preco_por_kg                                                                                Preço por kg do produto vendido.   \n",
       "promocao                                                                  Indica se havia uma promoção ativa (1) ou não (0).   \n",
       "demanda                                                                                          Demanda do produto na data.   \n",
       "demanda_dos_dias_anteriores                                                              Demanda do produto no dia anterior.   \n",
       "preco_por_kg_do_concorrente                                            Preço por kg do produto oferecido por um concorrente.   \n",
       "intensidade_de_marketing     Nível de intensidade das atividades de marketing (campanhas, anúncios) relacionadas ao produto.   \n",
       "\n",
       "                                 tipo  \n",
       "data                         datetime  \n",
       "temperatura_media               float  \n",
       "precipitacao                    float  \n",
       "fim_de_semana                     int  \n",
       "feriado                           int  \n",
       "preco_por_kg                    float  \n",
       "promocao                          int  \n",
       "demanda                         float  \n",
       "demanda_dos_dias_anteriores     float  \n",
       "preco_por_kg_do_concorrente     float  \n",
       "intensidade_de_marketing        float  "
      ]
     },
     "execution_count": 20,
     "metadata": {},
     "output_type": "execute_result"
    }
   ],
   "source": [
    "df_dict"
   ]
  },
  {
   "cell_type": "markdown",
   "id": "bb72dea8",
   "metadata": {},
   "source": [
    "<!-- Projeto Desenvolvido na Data Science Academy - www.datascienceacademy.com.br -->\n",
    "## Funções de Exploração e Visualização dos Dados Para o Experimento"
   ]
  },
  {
   "cell_type": "code",
   "execution_count": 22,
   "id": "7ea503a6",
   "metadata": {},
   "outputs": [],
   "source": [
    "# Função para o plot da correlação das variáveis preditoras com a variável alvo (demanda)\n",
    "def plot_corr_demanda(df, save_path = None):\n",
    "\n",
    "    # Calcula as correlações das variáveis com a demanda, exceto a própria demanda\n",
    "    correlations = df.corr()[\"demanda\"].drop(\"demanda\").sort_values()\n",
    "\n",
    "    # Define uma paleta de cores divergentes\n",
    "    colors = sns.diverging_palette(10, 130, as_cmap = True)\n",
    "    \n",
    "    # Mapeia as cores às correlações\n",
    "    color_mapped = correlations.map(colors)\n",
    "\n",
    "    # Define o estilo do gráfico\n",
    "    sns.set_style(\"darkgrid\", {\"axes.facecolor\": \"#eaeaf2\", \"grid.linewidth\": 1.5})\n",
    "\n",
    "    # Cria a figura do plot com tamanho definido\n",
    "    fig = plt.figure(figsize = (12, 8))\n",
    "    \n",
    "    # Cria um gráfico de barras horizontais para as correlações\n",
    "    plt.barh(correlations.index, correlations.values, color = color_mapped)\n",
    "\n",
    "    # Define o título e os rótulos dos eixos do gráfico\n",
    "    plt.title(\"Correlação com Demanda\", fontsize = 16)\n",
    "    plt.xlabel(\"Coeficiente de Correlação\", fontsize = 14)\n",
    "    plt.ylabel(\"Variável\", fontsize = 14)\n",
    "    plt.xticks(fontsize = 12)\n",
    "    plt.yticks(fontsize = 12)\n",
    "    plt.grid(axis=\"x\")\n",
    "\n",
    "    # Ajusta o layout para evitar sobreposição\n",
    "    plt.tight_layout()\n",
    "\n",
    "    # Salva o gráfico como um arquivo PNG, se um caminho for fornecido\n",
    "    if save_path:\n",
    "        plt.savefig(save_path, format = \"png\", dpi = 600)\n",
    "\n",
    "    # Fecha a figura para liberar memória\n",
    "    plt.close(fig)\n",
    "\n",
    "    # Retorna a figura criada\n",
    "    return fig"
   ]
  },
  {
   "cell_type": "code",
   "execution_count": 23,
   "id": "0a535b19",
   "metadata": {},
   "outputs": [],
   "source": [
    "# Executa a função\n",
    "grafico1 = plot_corr_demanda(df_sil)"
   ]
  },
  {
   "cell_type": "code",
   "execution_count": 24,
   "id": "913116c8",
   "metadata": {},
   "outputs": [
    {
     "data": {
      "image/png": "[encoded data removed]",
      "text/plain": [
       "<Figure size 1200x800 with 1 Axes>"
      ]
     },
     "execution_count": 24,
     "metadata": {},
     "output_type": "execute_result"
    }
   ],
   "source": [
    "grafico1"
   ]
  },
  {
   "cell_type": "code",
   "execution_count": 25,
   "id": "8ffbda13",
   "metadata": {},
   "outputs": [],
   "source": [
    "# Função para plot dos resíduos do modelo\n",
    "def plot_residuos(model, dvalid, valid_y, save_path = None):\n",
    "\n",
    "    # Faz as previsões no conjunto de validação\n",
    "    preds = model.predict(dvalid)\n",
    "\n",
    "    # Calcula os resíduos (diferença entre valores reais e previstos)\n",
    "    residuals = valid_y - preds\n",
    "\n",
    "    # Define o estilo do gráfico para 'whitegrid'\n",
    "    sns.set_style(\"whitegrid\", {\"axes.facecolor\": \"#c2c4c2\", \"grid.linewidth\": 1.5})\n",
    "\n",
    "    # Cria a figura do plot com tamanho definido\n",
    "    fig = plt.figure(figsize = (12, 8))\n",
    "    \n",
    "    # Cria um gráfico de dispersão dos valores reais versus resíduos\n",
    "    plt.scatter(valid_y, residuals, color = \"blue\", alpha = 0.5)\n",
    "    \n",
    "    # Adiciona uma linha horizontal em y=0\n",
    "    plt.axhline(y = 0, color = \"r\", linestyle = \"-\")\n",
    "\n",
    "    # Define o título e os rótulos dos eixos do gráfico\n",
    "    plt.title(\"Resíduos x Valores Reais\", fontsize = 16)\n",
    "    plt.xlabel(\"Valores Reais\", fontsize = 14)\n",
    "    plt.ylabel(\"Resíduos\", fontsize = 14)\n",
    "    plt.xticks(fontsize = 14)\n",
    "    plt.yticks(fontsize = 14)\n",
    "    plt.grid(axis = \"y\")\n",
    "\n",
    "    # Ajusta o layout para evitar sobreposição\n",
    "    plt.tight_layout()\n",
    "\n",
    "    # Salva o gráfico como um arquivo PNG, se um caminho for fornecido\n",
    "    if save_path:\n",
    "        plt.savefig(save_path, format = \"png\", dpi = 600)\n",
    "\n",
    "    # Fecha a figura para liberar memória\n",
    "    plt.close(fig)\n",
    "\n",
    "    # Retorna a figura criada\n",
    "    return fig"
   ]
  },
  {
   "cell_type": "code",
   "execution_count": 26,
   "id": "015240fb",
   "metadata": {},
   "outputs": [],
   "source": [
    "# Função para plot da importância das variáveis\n",
    "def plot_feature_importance(model, booster):\n",
    "\n",
    "    # Cria a figura e o eixo para o plot com tamanho definido\n",
    "    fig, ax = plt.subplots(figsize = (10, 8))\n",
    "    \n",
    "    # Define o tipo de importância como \"weight\" se o booster for \"gblinear\", caso contrário \"gain\"\n",
    "    importance_type = \"weight\" if booster == \"gblinear\" else \"gain\"\n",
    "    \n",
    "    # Plot das importância das variáveis usando o XGBoost\n",
    "    xgb.plot_importance(model,\n",
    "                        importance_type = importance_type,\n",
    "                        ax = ax,\n",
    "                        title = f\"Feature Importance baseada em {importance_type}\")\n",
    "    \n",
    "    # Ajusta o layout para evitar sobreposição\n",
    "    plt.tight_layout()\n",
    "    \n",
    "    # Fecha a figura para liberar memória\n",
    "    plt.close(fig)\n",
    "\n",
    "    # Retorna a figura criada\n",
    "    return fig"
   ]
  },
  {
   "cell_type": "markdown",
   "id": "615e2984",
   "metadata": {},
   "source": [
    "## Criando o Experimento no MLflow"
   ]
  },
  {
   "cell_type": "code",
   "execution_count": 27,
   "id": "25a952e7",
   "metadata": {},
   "outputs": [],
   "source": [
    "# Função para criar o experimento\n",
    "def cria_experimento(experiment_name):\n",
    "\n",
    "    # Verifica se o experimento já existe pelo nome\n",
    "    if experiment := mlflow.get_experiment_by_name(experiment_name):\n",
    "        # Se o experimento existir, retorna seu ID\n",
    "        return experiment.experiment_id\n",
    "    else:\n",
    "        # Se o experimento não existir, cria um novo e retorna seu ID\n",
    "        return mlflow.create_experiment(experiment_name)"
   ]
  },
  {
   "cell_type": "code",
   "execution_count": null,
   "id": "c75632ed",
   "metadata": {},
   "outputs": [],
   "source": [
    "# Cria o experimento\n",
    "id_experimento = cria_experimento(\"MLflowOptuna_v1\")"
   ]
  },
  {
   "cell_type": "code",
   "execution_count": 29,
   "id": "fb61c897",
   "metadata": {},
   "outputs": [
    {
     "data": {
      "text/plain": [
       "'650737912798334645'"
      ]
     },
     "execution_count": 29,
     "metadata": {},
     "output_type": "execute_result"
    }
   ],
   "source": [
    "# Experimento criado\n",
    "id_experimento"
   ]
  },
  {
   "cell_type": "markdown",
   "id": "9cbb827e",
   "metadata": {},
   "source": [
    "Visualize no seu navegador: http://127.0.0.1:8282"
   ]
  },
  {
   "cell_type": "code",
   "execution_count": 30,
   "id": "62926423",
   "metadata": {},
   "outputs": [
    {
     "data": {
      "text/plain": [
       "<Experiment: artifact_location='mlflow-artifacts:/650737912798334645', creation_time=1751756172211, experiment_id='650737912798334645', last_update_time=1751756172211, lifecycle_stage='active', name='MLflowOptuna', tags={}>"
      ]
     },
     "execution_count": 30,
     "metadata": {},
     "output_type": "execute_result"
    }
   ],
   "source": [
    "# Define o experimento MLflow ativo atual\n",
    "mlflow.set_experiment(experiment_id = id_experimento)"
   ]
  },
  {
   "cell_type": "markdown",
   "id": "c3dd9bd5",
   "metadata": {},
   "source": [
    "<!-- Projeto Desenvolvido na Data Science Academy - www.datascienceacademy.com.br -->\n",
    "## Pré-Processamento dos Dados Para o Experimento\n",
    "\n",
    "Acompanhe o videobook no Capítulo 6 do curso."
   ]
  },
  {
   "cell_type": "code",
   "execution_count": 32,
   "id": "efe0eb62",
   "metadata": {},
   "outputs": [],
   "source": [
    "# Separa em X e y\n",
    "X = df_sil.drop(columns = [\"data\", \"demanda\"])\n",
    "y = df_sil[\"demanda\"]"
   ]
  },
  {
   "cell_type": "code",
   "execution_count": 33,
   "id": "7874751c",
   "metadata": {},
   "outputs": [],
   "source": [
    "# Divide os dados em treino e validação\n",
    "x_treino, x_valid, y_treino, y_valid = train_test_split(X, y, test_size = 0.25)"
   ]
  },
  {
   "cell_type": "code",
   "execution_count": 34,
   "id": "8bcdae2f",
   "metadata": {},
   "outputs": [],
   "source": [
    "# Coloca os dados no formato de matriz do XGBoost\n",
    "sil_treino = xgb.DMatrix(x_treino, label = y_treino)\n",
    "sil_valid = xgb.DMatrix(x_valid, label = y_valid)"
   ]
  },
  {
   "cell_type": "code",
   "execution_count": 35,
   "id": "96f63eee",
   "metadata": {},
   "outputs": [],
   "source": [
    "# Substitui o registro padrão do Optuna apenas para ERROR\n",
    "optuna.logging.set_verbosity(optuna.logging.ERROR)"
   ]
  },
  {
   "cell_type": "markdown",
   "id": "d60cdd40",
   "metadata": {},
   "source": [
    "## Definindo o Callback de Logging\n",
    "\n",
    "Registro de retorno de chamada que informará quando uma nova iteração de teste melhorar a existente."
   ]
  },
  {
   "cell_type": "code",
   "execution_count": 36,
   "id": "fbc55220",
   "metadata": {},
   "outputs": [],
   "source": [
    "# Função de callback\n",
    "def sil_callback(study, frozen_trial):\n",
    "\n",
    "    # Obtém o valor atual do \"winner\" (vencedor) dos atributos do estudo\n",
    "    winner = study.user_attrs.get(\"winner\", None)\n",
    "\n",
    "    # Verifica se há um novo melhor valor e se o \"winner\" não é igual ao melhor valor\n",
    "    if study.best_value and winner != study.best_value:\n",
    "        \n",
    "        # Define o novo melhor valor como \"winner\"\n",
    "        study.set_user_attr(\"winner\", study.best_value)\n",
    "        \n",
    "        # Se havia um \"winner\" anterior\n",
    "        if winner:\n",
    "            \n",
    "            # Calcula a porcentagem de melhoria em relação ao \"winner\" anterior\n",
    "            improvement_percent = (abs(winner - study.best_value) / study.best_value) * 100\n",
    "            \n",
    "            # Imprime o número da tentativa, o valor alcançado e a porcentagem de melhoria\n",
    "            print(\n",
    "                f\"Tentativa {frozen_trial.number} alcançou o valor: {frozen_trial.value} com \"\n",
    "                f\"{improvement_percent: .4f}% de melhora na métrica de avaliação.\")\n",
    "        else:\n",
    "            # Se não havia um \"winner\" anterior, imprime o número da tentativa inicial e o valor alcançado\n",
    "            print(\n",
    "                f\"Tentativa inicial {frozen_trial.number} alcançou o valor: \"\n",
    "                f\"{frozen_trial.value} na métrica de avaliação.\")"
   ]
  },
  {
   "cell_type": "markdown",
   "id": "e769c66b",
   "metadata": {},
   "source": [
    "## Definindo os Hiperparâmetros do XGBoost Para o Experimento\n",
    "\n",
    "Acompanhe o videobook no Capítulo 6 do curso."
   ]
  },
  {
   "cell_type": "code",
   "execution_count": 37,
   "id": "5ce91cd1",
   "metadata": {},
   "outputs": [],
   "source": [
    "# Função para definir os hiperparâmetros que serão otimizados\n",
    "def otimiza_hiperparametro(trial):\n",
    "    \n",
    "    # Inicia uma nova execução de MLflow\n",
    "    with mlflow.start_run(nested = True):\n",
    "        \n",
    "        # Define os hiperparâmetros básicos do modelo\n",
    "        params = {\n",
    "            \n",
    "            # Função alvo (objetivo)\n",
    "            \"objective\": \"reg:squarederror\",\n",
    "            \n",
    "            # Métrica de avaliação\n",
    "            \"eval_metric\": \"rmse\",\n",
    "            \n",
    "            # Tipo de booster (algoritmo de treinamento)\n",
    "            \"booster\": trial.suggest_categorical(\"booster\", [\"gbtree\", \"gblinear\", \"dart\"]),\n",
    "            \n",
    "            # Valor de lambda para regularização L2\n",
    "            \"lambda\": trial.suggest_float(\"lambda\", 1e-8, 1.0, log = True),\n",
    "            \n",
    "            # Valor de alpha para regularização L1\n",
    "            \"alpha\": trial.suggest_float(\"alpha\", 1e-8, 1.0, log = True),\n",
    "        }\n",
    "\n",
    "        # Se o booster for 'gbtree' ou 'dart', adiciona parâmetros específicos\n",
    "        if params[\"booster\"] == \"gbtree\" or params[\"booster\"] == \"dart\":\n",
    "            \n",
    "            # Profundidade máxima da árvore\n",
    "            params[\"max_depth\"] = trial.suggest_int(\"max_depth\", 1, 9)\n",
    "            \n",
    "            # Valor de eta (taxa de aprendizado)\n",
    "            params[\"eta\"] = trial.suggest_float(\"eta\", 1e-8, 1.0, log=True)\n",
    "            \n",
    "            # Valor de gamma para regularização adicional\n",
    "            params[\"gamma\"] = trial.suggest_float(\"gamma\", 1e-8, 1.0, log=True)\n",
    "            \n",
    "            # Política de crescimento das árvores\n",
    "            params[\"grow_policy\"] = trial.suggest_categorical(\n",
    "                \"grow_policy\", [\"depthwise\", \"lossguide\"]\n",
    "            )\n",
    "\n",
    "        # Treina o modelo com os hiperparâmetros escolhidos\n",
    "        bst = xgb.train(params, sil_treino)\n",
    "        \n",
    "        # Faz previsões no conjunto de validação\n",
    "        preds = bst.predict(sil_valid)\n",
    "        \n",
    "        # Calcula o erro quadrático médio\n",
    "        error = mean_squared_error(y_valid, preds)\n",
    "\n",
    "        # Registra os parâmetros no MLflow\n",
    "        mlflow.log_params(params)\n",
    "        \n",
    "        # Registra o MSE no MLflow\n",
    "        mlflow.log_metric(\"mse\", error)\n",
    "        \n",
    "        # Registra o RMSE no MLflow\n",
    "        mlflow.log_metric(\"rmse\", math.sqrt(error))\n",
    "\n",
    "    # Retorna o erro calculado\n",
    "    return error"
   ]
  },
  {
   "cell_type": "markdown",
   "id": "55a79051",
   "metadata": {},
   "source": [
    "## Executando o Experimento com MLflow e Optuna"
   ]
  },
  {
   "cell_type": "code",
   "execution_count": 38,
   "id": "6fe2677e",
   "metadata": {},
   "outputs": [],
   "source": [
    "# Nome para a execução no MLflow\n",
    "run_name = \"mlflow\""
   ]
  },
  {
   "cell_type": "code",
   "execution_count": 39,
   "id": "aae514b9",
   "metadata": {},
   "outputs": [
    {
     "name": "stdout",
     "output_type": "stream",
     "text": [
      "Tentativa inicial 0 alcançou o valor: 21170.296500783243 na métrica de avaliação.\n",
      "Tentativa 4 alcançou o valor: 20926.655703792214 com  1.1643% de melhora na métrica de avaliação.\n",
      "Tentativa 5 alcançou o valor: 20909.64017786472 com  0.0814% de melhora na métrica de avaliação.\n",
      "Tentativa 10 alcançou o valor: 18641.08727757764 com  12.1696% de melhora na métrica de avaliação.\n",
      "Tentativa 45 alcançou o valor: 18190.1856864442 com  2.4788% de melhora na métrica de avaliação.\n",
      "Tentativa 52 alcançou o valor: 18143.470411560123 com  0.2575% de melhora na métrica de avaliação.\n",
      "Tentativa 55 alcançou o valor: 17744.138927297365 com  2.2505% de melhora na métrica de avaliação.\n",
      "Tentativa 81 alcançou o valor: 17676.512954211837 com  0.3826% de melhora na métrica de avaliação.\n",
      "Tentativa 88 alcançou o valor: 16990.687974434808 com  4.0365% de melhora na métrica de avaliação.\n",
      "Tentativa 103 alcançou o valor: 16975.69201234278 com  0.0883% de melhora na métrica de avaliação.\n",
      "Tentativa 105 alcançou o valor: 16932.886638046508 com  0.2528% de melhora na métrica de avaliação.\n",
      "Tentativa 106 alcançou o valor: 16853.727112572313 com  0.4697% de melhora na métrica de avaliação.\n",
      "Tentativa 107 alcançou o valor: 16775.365564560565 com  0.4671% de melhora na métrica de avaliação.\n",
      "Tentativa 121 alcançou o valor: 16749.92470585963 com  0.1519% de melhora na métrica de avaliação.\n",
      "Tentativa 127 alcançou o valor: 16701.262199363508 com  0.2914% de melhora na métrica de avaliação.\n",
      "Tentativa 128 alcançou o valor: 16642.42811031327 com  0.3535% de melhora na métrica de avaliação.\n",
      "Tentativa 131 alcançou o valor: 16509.599192890375 com  0.8046% de melhora na métrica de avaliação.\n",
      "Tentativa 132 alcançou o valor: 16458.35348839421 com  0.3114% de melhora na métrica de avaliação.\n",
      "Tentativa 134 alcançou o valor: 16446.505589676166 com  0.0720% de melhora na métrica de avaliação.\n",
      "Tentativa 241 alcançou o valor: 16399.220128431007 com  0.2883% de melhora na métrica de avaliação.\n",
      "Tentativa 358 alcançou o valor: 16324.25027537553 com  0.4593% de melhora na métrica de avaliação.\n"
     ]
    }
   ],
   "source": [
    "# Inicia a execução de ajuste de hiperparâmetros\n",
    "with mlflow.start_run(experiment_id = id_experimento, run_name = run_name, nested = True):\n",
    "    \n",
    "    # Cria um estudo Optuna para otimização de hiperparâmetros para minimizar a função alvo (função de erro)\n",
    "    study = optuna.create_study(direction = \"minimize\")\n",
    "\n",
    "    # Otimiza os hiperparâmetros com 500 tentativas, usando a função de callback\n",
    "    study.optimize(otimiza_hiperparametro, n_trials = 500, callbacks = [sil_callback])\n",
    "\n",
    "    # Registra os melhores hiperparâmetros encontrados no MLflow\n",
    "    mlflow.log_params(study.best_params)\n",
    "    \n",
    "    # Registra o melhor valor de MSE encontrado no MLflow\n",
    "    mlflow.log_metric(\"best_mse\", study.best_value)\n",
    "    \n",
    "    # Calcula e registra o melhor valor de RMSE no MLflow\n",
    "    mlflow.log_metric(\"best_rmse\", math.sqrt(study.best_value))\n",
    "\n",
    "    # Define tags para a execução no MLflow\n",
    "    mlflow.set_tags(tags = {\"project\": \"MLFlow e Optuna\",\n",
    "                            \"optimizer_engine\": \"optuna\",\n",
    "                            \"model_family\": \"xgboost\",\n",
    "                            \"feature_set_version\": 1})\n",
    "\n",
    "    # Treina o modelo com os melhores parâmetros encontrados\n",
    "    model = xgb.train(study.best_params, sil_treino)\n",
    "\n",
    "    # Registra o gráfico grafico1 no MLflow\n",
    "    mlflow.log_figure(figure = grafico1, artifact_file = \"grafico1.png\")\n",
    "\n",
    "    # Plota e registra a importância das variáveis no MLflow\n",
    "    importances = plot_feature_importance(model, booster = study.best_params.get(\"booster\"))\n",
    "    mlflow.log_figure(figure = importances, artifact_file = \"grafico2.png\")\n",
    "\n",
    "    # Plota e registra os resíduos no MLflow\n",
    "    residuals = plot_residuos(model, sil_valid, y_valid)\n",
    "    mlflow.log_figure(figure = residuals, artifact_file = \"grafico3.png\")\n",
    "\n",
    "    # Define o caminho do artefato do modelo\n",
    "    artifact_path = \"model\"\n",
    "\n",
    "    # Registra o modelo treinado no MLflow\n",
    "    mlflow.xgboost.log_model(xgb_model = model,\n",
    "                             artifact_path = artifact_path,\n",
    "                             input_example = x_treino.iloc[[0]],\n",
    "                             model_format = \"ubj\",\n",
    "                             metadata = {\"model_data_version\": 1})\n",
    "\n",
    "    # Obtém a URI do artefato do modelo registrado\n",
    "    model_uri = mlflow.get_artifact_uri(artifact_path)"
   ]
  },
  {
   "cell_type": "markdown",
   "id": "a3958e43",
   "metadata": {},
   "source": [
    "Visualize no seu navegador: http://127.0.0.1:8282"
   ]
  },
  {
   "cell_type": "markdown",
   "id": "bff1551a",
   "metadata": {},
   "source": [
    "## Carregando o Modelo a Partir dos Artefatos"
   ]
  },
  {
   "cell_type": "code",
   "execution_count": 40,
   "id": "5bd88058",
   "metadata": {},
   "outputs": [
    {
     "data": {
      "text/plain": [
       "'mlflow-artifacts:/650737912798334645/850ac89ac3fe45d9a2e817ed91016998/artifacts/model'"
      ]
     },
     "execution_count": 40,
     "metadata": {},
     "output_type": "execute_result"
    }
   ],
   "source": [
    "# Caminho para o melhor modelo (com melhor combinação de hiperparâmetros) salvo em disco\n",
    "model_uri"
   ]
  },
  {
   "cell_type": "code",
   "execution_count": 41,
   "id": "18b266dd",
   "metadata": {},
   "outputs": [
    {
     "name": "stderr",
     "output_type": "stream",
     "text": [
      "Downloading artifacts: 100%|██████████| 10/10 [00:00<00:00, 168.56it/s]\n"
     ]
    }
   ],
   "source": [
    "# Carrega o melhor modelo do disco\n",
    "melhor_modelo = mlflow.xgboost.load_model(model_uri)"
   ]
  },
  {
   "cell_type": "markdown",
   "id": "beaa5cdf",
   "metadata": {},
   "source": [
    "## Pipeline de Inferência com o Melhor Modelo"
   ]
  },
  {
   "cell_type": "code",
   "execution_count": 42,
   "id": "2300d5d6",
   "metadata": {},
   "outputs": [],
   "source": [
    "# Gera um batch de dados a partir de X (variáveis preditoras)\n",
    "batch_dmatrix = xgb.DMatrix(X)"
   ]
  },
  {
   "cell_type": "code",
   "execution_count": 43,
   "id": "670c470b",
   "metadata": {},
   "outputs": [],
   "source": [
    "# Faz a inferência (previsões) usando o melhor modelo - ATENÇÃO: ISSO NÃO É DEPLOY!!!!\n",
    "inferencia = melhor_modelo.predict(batch_dmatrix)"
   ]
  },
  {
   "cell_type": "code",
   "execution_count": 44,
   "id": "609e15cf",
   "metadata": {},
   "outputs": [],
   "source": [
    "# Cria cópia do dataframe original\n",
    "df_final = df_sil.copy()"
   ]
  },
  {
   "cell_type": "code",
   "execution_count": 45,
   "id": "5597036c",
   "metadata": {},
   "outputs": [],
   "source": [
    "# Cria uma coluna com as previsões\n",
    "df_final[\"demanda_prevista\"] = inferencia"
   ]
  },
  {
   "cell_type": "code",
   "execution_count": 46,
   "id": "49c4565a",
   "metadata": {},
   "outputs": [
    {
     "data": {
      "text/html": [
       "<div>\n",
       "<style scoped>\n",
       "    .dataframe tbody tr th:only-of-type {\n",
       "        vertical-align: middle;\n",
       "    }\n",
       "\n",
       "    .dataframe tbody tr th {\n",
       "        vertical-align: top;\n",
       "    }\n",
       "\n",
       "    .dataframe thead th {\n",
       "        text-align: right;\n",
       "    }\n",
       "</style>\n",
       "<table border=\"1\" class=\"dataframe\">\n",
       "  <thead>\n",
       "    <tr style=\"text-align: right;\">\n",
       "      <th></th>\n",
       "      <th>data</th>\n",
       "      <th>temperatura_media</th>\n",
       "      <th>precipitacao</th>\n",
       "      <th>fim_de_semana</th>\n",
       "      <th>feriado</th>\n",
       "      <th>preco_por_kg</th>\n",
       "      <th>promocao</th>\n",
       "      <th>demanda</th>\n",
       "      <th>demanda_dos_dias_anteriores</th>\n",
       "      <th>preco_por_kg_do_concorrente</th>\n",
       "      <th>intensidade_de_marketing</th>\n",
       "      <th>demanda_prevista</th>\n",
       "    </tr>\n",
       "  </thead>\n",
       "  <tbody>\n",
       "    <tr>\n",
       "      <th>4721</th>\n",
       "      <td>2023-09-21 09:16:07.878467</td>\n",
       "      <td>22.021033</td>\n",
       "      <td>6.860636</td>\n",
       "      <td>0</td>\n",
       "      <td>0</td>\n",
       "      <td>2.673620</td>\n",
       "      <td>0</td>\n",
       "      <td>1213.164988</td>\n",
       "      <td>1352.182862</td>\n",
       "      <td>1.471610</td>\n",
       "      <td>0.797277</td>\n",
       "      <td>1050.470825</td>\n",
       "    </tr>\n",
       "    <tr>\n",
       "      <th>4913</th>\n",
       "      <td>2024-03-31 09:16:07.878232</td>\n",
       "      <td>18.023862</td>\n",
       "      <td>0.441724</td>\n",
       "      <td>1</td>\n",
       "      <td>0</td>\n",
       "      <td>0.859965</td>\n",
       "      <td>1</td>\n",
       "      <td>2016.982649</td>\n",
       "      <td>1704.861995</td>\n",
       "      <td>1.072846</td>\n",
       "      <td>0.953573</td>\n",
       "      <td>1847.953369</td>\n",
       "    </tr>\n",
       "    <tr>\n",
       "      <th>1154</th>\n",
       "      <td>2013-12-15 09:16:07.882468</td>\n",
       "      <td>33.210065</td>\n",
       "      <td>3.349390</td>\n",
       "      <td>1</td>\n",
       "      <td>0</td>\n",
       "      <td>1.627104</td>\n",
       "      <td>0</td>\n",
       "      <td>1252.277880</td>\n",
       "      <td>1344.389222</td>\n",
       "      <td>0.861875</td>\n",
       "      <td>0.927883</td>\n",
       "      <td>1398.408813</td>\n",
       "    </tr>\n",
       "    <tr>\n",
       "      <th>2891</th>\n",
       "      <td>2018-09-17 09:16:07.880622</td>\n",
       "      <td>24.214390</td>\n",
       "      <td>7.239076</td>\n",
       "      <td>0</td>\n",
       "      <td>0</td>\n",
       "      <td>1.062459</td>\n",
       "      <td>0</td>\n",
       "      <td>1166.140274</td>\n",
       "      <td>1705.342916</td>\n",
       "      <td>0.800631</td>\n",
       "      <td>0.981052</td>\n",
       "      <td>1221.353638</td>\n",
       "    </tr>\n",
       "    <tr>\n",
       "      <th>3669</th>\n",
       "      <td>2020-11-03 09:16:07.879807</td>\n",
       "      <td>16.705227</td>\n",
       "      <td>0.784369</td>\n",
       "      <td>0</td>\n",
       "      <td>0</td>\n",
       "      <td>0.603941</td>\n",
       "      <td>0</td>\n",
       "      <td>1325.197386</td>\n",
       "      <td>1118.134749</td>\n",
       "      <td>2.719052</td>\n",
       "      <td>0.905311</td>\n",
       "      <td>1178.679321</td>\n",
       "    </tr>\n",
       "    <tr>\n",
       "      <th>4752</th>\n",
       "      <td>2023-10-22 09:16:07.878428</td>\n",
       "      <td>28.073758</td>\n",
       "      <td>1.740560</td>\n",
       "      <td>1</td>\n",
       "      <td>0</td>\n",
       "      <td>0.620871</td>\n",
       "      <td>1</td>\n",
       "      <td>1948.206850</td>\n",
       "      <td>1973.919877</td>\n",
       "      <td>1.154931</td>\n",
       "      <td>0.804063</td>\n",
       "      <td>1870.588013</td>\n",
       "    </tr>\n",
       "    <tr>\n",
       "      <th>1318</th>\n",
       "      <td>2014-05-28 09:16:07.882296</td>\n",
       "      <td>33.474865</td>\n",
       "      <td>1.449758</td>\n",
       "      <td>0</td>\n",
       "      <td>0</td>\n",
       "      <td>1.101722</td>\n",
       "      <td>0</td>\n",
       "      <td>1033.874593</td>\n",
       "      <td>995.818806</td>\n",
       "      <td>2.096592</td>\n",
       "      <td>0.867072</td>\n",
       "      <td>1042.926025</td>\n",
       "    </tr>\n",
       "    <tr>\n",
       "      <th>4739</th>\n",
       "      <td>2023-10-09 09:16:07.878444</td>\n",
       "      <td>30.801304</td>\n",
       "      <td>0.867268</td>\n",
       "      <td>0</td>\n",
       "      <td>0</td>\n",
       "      <td>0.520371</td>\n",
       "      <td>1</td>\n",
       "      <td>1610.769224</td>\n",
       "      <td>1879.305063</td>\n",
       "      <td>2.420125</td>\n",
       "      <td>0.746836</td>\n",
       "      <td>1554.747681</td>\n",
       "    </tr>\n",
       "    <tr>\n",
       "      <th>2134</th>\n",
       "      <td>2016-08-21 09:16:07.881417</td>\n",
       "      <td>27.140674</td>\n",
       "      <td>14.628917</td>\n",
       "      <td>1</td>\n",
       "      <td>0</td>\n",
       "      <td>1.161751</td>\n",
       "      <td>0</td>\n",
       "      <td>1408.902733</td>\n",
       "      <td>1283.003291</td>\n",
       "      <td>2.275057</td>\n",
       "      <td>0.754601</td>\n",
       "      <td>1472.592285</td>\n",
       "    </tr>\n",
       "    <tr>\n",
       "      <th>1527</th>\n",
       "      <td>2014-12-23 09:16:07.882072</td>\n",
       "      <td>26.459405</td>\n",
       "      <td>0.277307</td>\n",
       "      <td>0</td>\n",
       "      <td>0</td>\n",
       "      <td>1.316353</td>\n",
       "      <td>1</td>\n",
       "      <td>1217.537232</td>\n",
       "      <td>986.064091</td>\n",
       "      <td>1.931090</td>\n",
       "      <td>0.971998</td>\n",
       "      <td>1215.786743</td>\n",
       "    </tr>\n",
       "  </tbody>\n",
       "</table>\n",
       "</div>"
      ],
      "text/plain": [
       "                           data  temperatura_media  precipitacao  \\\n",
       "4721 2023-09-21 09:16:07.878467          22.021033      6.860636   \n",
       "4913 2024-03-31 09:16:07.878232          18.023862      0.441724   \n",
       "1154 2013-12-15 09:16:07.882468          33.210065      3.349390   \n",
       "2891 2018-09-17 09:16:07.880622          24.214390      7.239076   \n",
       "3669 2020-11-03 09:16:07.879807          16.705227      0.784369   \n",
       "4752 2023-10-22 09:16:07.878428          28.073758      1.740560   \n",
       "1318 2014-05-28 09:16:07.882296          33.474865      1.449758   \n",
       "4739 2023-10-09 09:16:07.878444          30.801304      0.867268   \n",
       "2134 2016-08-21 09:16:07.881417          27.140674     14.628917   \n",
       "1527 2014-12-23 09:16:07.882072          26.459405      0.277307   \n",
       "\n",
       "      fim_de_semana  feriado  preco_por_kg  promocao      demanda  \\\n",
       "4721              0        0      2.673620         0  1213.164988   \n",
       "4913              1        0      0.859965         1  2016.982649   \n",
       "1154              1        0      1.627104         0  1252.277880   \n",
       "2891              0        0      1.062459         0  1166.140274   \n",
       "3669              0        0      0.603941         0  1325.197386   \n",
       "4752              1        0      0.620871         1  1948.206850   \n",
       "1318              0        0      1.101722         0  1033.874593   \n",
       "4739              0        0      0.520371         1  1610.769224   \n",
       "2134              1        0      1.161751         0  1408.902733   \n",
       "1527              0        0      1.316353         1  1217.537232   \n",
       "\n",
       "      demanda_dos_dias_anteriores  preco_por_kg_do_concorrente  \\\n",
       "4721                  1352.182862                     1.471610   \n",
       "4913                  1704.861995                     1.072846   \n",
       "1154                  1344.389222                     0.861875   \n",
       "2891                  1705.342916                     0.800631   \n",
       "3669                  1118.134749                     2.719052   \n",
       "4752                  1973.919877                     1.154931   \n",
       "1318                   995.818806                     2.096592   \n",
       "4739                  1879.305063                     2.420125   \n",
       "2134                  1283.003291                     2.275057   \n",
       "1527                   986.064091                     1.931090   \n",
       "\n",
       "      intensidade_de_marketing  demanda_prevista  \n",
       "4721                  0.797277       1050.470825  \n",
       "4913                  0.953573       1847.953369  \n",
       "1154                  0.927883       1398.408813  \n",
       "2891                  0.981052       1221.353638  \n",
       "3669                  0.905311       1178.679321  \n",
       "4752                  0.804063       1870.588013  \n",
       "1318                  0.867072       1042.926025  \n",
       "4739                  0.746836       1554.747681  \n",
       "2134                  0.754601       1472.592285  \n",
       "1527                  0.971998       1215.786743  "
      ]
     },
     "execution_count": 46,
     "metadata": {},
     "output_type": "execute_result"
    }
   ],
   "source": [
    "df_final.sample(10)"
   ]
  },
  {
   "cell_type": "markdown",
   "id": "f5ecccf4",
   "metadata": {},
   "source": [
    "Projeto concluído com sucesso! Cliente feliz. Partimos para o próximo projeto."
   ]
  },
  {
   "cell_type": "code",
   "execution_count": 47,
   "id": "5f9b4bee",
   "metadata": {},
   "outputs": [
    {
     "name": "stdout",
     "output_type": "stream",
     "text": [
      "Author: Silmara\n",
      "\n"
     ]
    }
   ],
   "source": [
    "%reload_ext watermark\n",
    "%watermark -a \"Silmara\""
   ]
  },
  {
   "cell_type": "code",
   "execution_count": null,
   "id": "f630c5a8",
   "metadata": {},
   "outputs": [
    {
     "name": "stdout",
     "output_type": "stream",
     "text": [
      "Python implementation: CPython\n",
      "Python version       : 3.11.5\n",
      "IPython version      : 9.4.0\n",
      "\n",
      "Compiler    : Clang 15.0.0 (clang-1500.1.0.2.5)\n",
      "OS          : Darwin\n",
      "Release     : 23.2.0\n",
      "Machine     : arm64\n",
      "Processor   : arm\n",
      "CPU cores   : 16\n",
      "Architecture: 64bit\n",
      "\n"
     ]
    }
   ],
   "source": [
    "#%watermark -v -m"
   ]
  },
  {
   "cell_type": "code",
   "execution_count": null,
   "id": "c1fe8c9f",
   "metadata": {},
   "outputs": [
    {
     "name": "stdout",
     "output_type": "stream",
     "text": [
      "json      : 2.0.9\n",
      "seaborn   : 0.12.2\n",
      "xgboost   : 2.0.3\n",
      "sklearn   : 1.7.0\n",
      "pandas    : 2.3.0\n",
      "optuna    : 3.6.1\n",
      "numpy     : 1.26.4\n",
      "matplotlib: 3.10.3\n",
      "mlflow    : 2.14.1\n",
      "\n"
     ]
    }
   ],
   "source": [
    "#%watermark --iversions"
   ]
  },
  {
   "cell_type": "markdown",
   "id": "c91ee971",
   "metadata": {},
   "source": [
    "# Fim"
   ]
  }
 ],
 "metadata": {
  "kernelspec": {
   "display_name": "Python 3",
   "language": "python",
   "name": "python3"
  },
  "language_info": {
   "codemirror_mode": {
    "name": "ipython",
    "version": 3
   },
   "file_extension": ".py",
   "mimetype": "text/x-python",
   "name": "python",
   "nbconvert_exporter": "python",
   "pygments_lexer": "ipython3",
   "version": "3.11.5"
  }
 },
 "nbformat": 4,
 "nbformat_minor": 5
}
